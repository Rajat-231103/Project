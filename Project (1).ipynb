{
  "nbformat": 4,
  "nbformat_minor": 0,
  "metadata": {
    "colab": {
      "provenance": []
    },
    "kernelspec": {
      "name": "python3",
      "display_name": "Python 3"
    },
    "language_info": {
      "name": "python"
    },
    "widgets": {
      "application/vnd.jupyter.widget-state+json": {
        "41a924f0d03a4710936684c409b65f84": {
          "model_module": "@jupyter-widgets/controls",
          "model_name": "HBoxModel",
          "model_module_version": "1.5.0",
          "state": {
            "_dom_classes": [],
            "_model_module": "@jupyter-widgets/controls",
            "_model_module_version": "1.5.0",
            "_model_name": "HBoxModel",
            "_view_count": null,
            "_view_module": "@jupyter-widgets/controls",
            "_view_module_version": "1.5.0",
            "_view_name": "HBoxView",
            "box_style": "",
            "children": [
              "IPY_MODEL_fae5e5d436bb467295fa362b4283e43d",
              "IPY_MODEL_65ac74d32df1407b90b7a98d4e05b886",
              "IPY_MODEL_fc3028d870ec4888a41402cf31f5cf0e"
            ],
            "layout": "IPY_MODEL_f8510bd86475431dabaa12771c01df30"
          }
        },
        "fae5e5d436bb467295fa362b4283e43d": {
          "model_module": "@jupyter-widgets/controls",
          "model_name": "HTMLModel",
          "model_module_version": "1.5.0",
          "state": {
            "_dom_classes": [],
            "_model_module": "@jupyter-widgets/controls",
            "_model_module_version": "1.5.0",
            "_model_name": "HTMLModel",
            "_view_count": null,
            "_view_module": "@jupyter-widgets/controls",
            "_view_module_version": "1.5.0",
            "_view_name": "HTMLView",
            "description": "",
            "description_tooltip": null,
            "layout": "IPY_MODEL_063d7fd89a5b4a8e98f828bbb1584405",
            "placeholder": "​",
            "style": "IPY_MODEL_82f37224860f40b68716f149b2c1aba9",
            "value": "vocab.txt: 100%"
          }
        },
        "65ac74d32df1407b90b7a98d4e05b886": {
          "model_module": "@jupyter-widgets/controls",
          "model_name": "FloatProgressModel",
          "model_module_version": "1.5.0",
          "state": {
            "_dom_classes": [],
            "_model_module": "@jupyter-widgets/controls",
            "_model_module_version": "1.5.0",
            "_model_name": "FloatProgressModel",
            "_view_count": null,
            "_view_module": "@jupyter-widgets/controls",
            "_view_module_version": "1.5.0",
            "_view_name": "ProgressView",
            "bar_style": "success",
            "description": "",
            "description_tooltip": null,
            "layout": "IPY_MODEL_ac886f6347b7443b942bb4bf1fca99bf",
            "max": 226122,
            "min": 0,
            "orientation": "horizontal",
            "style": "IPY_MODEL_a5d36b7d8199403aad937b7d46cd6139",
            "value": 226122
          }
        },
        "fc3028d870ec4888a41402cf31f5cf0e": {
          "model_module": "@jupyter-widgets/controls",
          "model_name": "HTMLModel",
          "model_module_version": "1.5.0",
          "state": {
            "_dom_classes": [],
            "_model_module": "@jupyter-widgets/controls",
            "_model_module_version": "1.5.0",
            "_model_name": "HTMLModel",
            "_view_count": null,
            "_view_module": "@jupyter-widgets/controls",
            "_view_module_version": "1.5.0",
            "_view_name": "HTMLView",
            "description": "",
            "description_tooltip": null,
            "layout": "IPY_MODEL_5e29a4d7bced4c6abb11dfc89d2b7d48",
            "placeholder": "​",
            "style": "IPY_MODEL_d8d25252c89a44da9c1e3a8f435b3865",
            "value": " 226k/226k [00:00&lt;00:00, 1.76MB/s]"
          }
        },
        "f8510bd86475431dabaa12771c01df30": {
          "model_module": "@jupyter-widgets/base",
          "model_name": "LayoutModel",
          "model_module_version": "1.2.0",
          "state": {
            "_model_module": "@jupyter-widgets/base",
            "_model_module_version": "1.2.0",
            "_model_name": "LayoutModel",
            "_view_count": null,
            "_view_module": "@jupyter-widgets/base",
            "_view_module_version": "1.2.0",
            "_view_name": "LayoutView",
            "align_content": null,
            "align_items": null,
            "align_self": null,
            "border": null,
            "bottom": null,
            "display": null,
            "flex": null,
            "flex_flow": null,
            "grid_area": null,
            "grid_auto_columns": null,
            "grid_auto_flow": null,
            "grid_auto_rows": null,
            "grid_column": null,
            "grid_gap": null,
            "grid_row": null,
            "grid_template_areas": null,
            "grid_template_columns": null,
            "grid_template_rows": null,
            "height": null,
            "justify_content": null,
            "justify_items": null,
            "left": null,
            "margin": null,
            "max_height": null,
            "max_width": null,
            "min_height": null,
            "min_width": null,
            "object_fit": null,
            "object_position": null,
            "order": null,
            "overflow": null,
            "overflow_x": null,
            "overflow_y": null,
            "padding": null,
            "right": null,
            "top": null,
            "visibility": null,
            "width": null
          }
        },
        "063d7fd89a5b4a8e98f828bbb1584405": {
          "model_module": "@jupyter-widgets/base",
          "model_name": "LayoutModel",
          "model_module_version": "1.2.0",
          "state": {
            "_model_module": "@jupyter-widgets/base",
            "_model_module_version": "1.2.0",
            "_model_name": "LayoutModel",
            "_view_count": null,
            "_view_module": "@jupyter-widgets/base",
            "_view_module_version": "1.2.0",
            "_view_name": "LayoutView",
            "align_content": null,
            "align_items": null,
            "align_self": null,
            "border": null,
            "bottom": null,
            "display": null,
            "flex": null,
            "flex_flow": null,
            "grid_area": null,
            "grid_auto_columns": null,
            "grid_auto_flow": null,
            "grid_auto_rows": null,
            "grid_column": null,
            "grid_gap": null,
            "grid_row": null,
            "grid_template_areas": null,
            "grid_template_columns": null,
            "grid_template_rows": null,
            "height": null,
            "justify_content": null,
            "justify_items": null,
            "left": null,
            "margin": null,
            "max_height": null,
            "max_width": null,
            "min_height": null,
            "min_width": null,
            "object_fit": null,
            "object_position": null,
            "order": null,
            "overflow": null,
            "overflow_x": null,
            "overflow_y": null,
            "padding": null,
            "right": null,
            "top": null,
            "visibility": null,
            "width": null
          }
        },
        "82f37224860f40b68716f149b2c1aba9": {
          "model_module": "@jupyter-widgets/controls",
          "model_name": "DescriptionStyleModel",
          "model_module_version": "1.5.0",
          "state": {
            "_model_module": "@jupyter-widgets/controls",
            "_model_module_version": "1.5.0",
            "_model_name": "DescriptionStyleModel",
            "_view_count": null,
            "_view_module": "@jupyter-widgets/base",
            "_view_module_version": "1.2.0",
            "_view_name": "StyleView",
            "description_width": ""
          }
        },
        "ac886f6347b7443b942bb4bf1fca99bf": {
          "model_module": "@jupyter-widgets/base",
          "model_name": "LayoutModel",
          "model_module_version": "1.2.0",
          "state": {
            "_model_module": "@jupyter-widgets/base",
            "_model_module_version": "1.2.0",
            "_model_name": "LayoutModel",
            "_view_count": null,
            "_view_module": "@jupyter-widgets/base",
            "_view_module_version": "1.2.0",
            "_view_name": "LayoutView",
            "align_content": null,
            "align_items": null,
            "align_self": null,
            "border": null,
            "bottom": null,
            "display": null,
            "flex": null,
            "flex_flow": null,
            "grid_area": null,
            "grid_auto_columns": null,
            "grid_auto_flow": null,
            "grid_auto_rows": null,
            "grid_column": null,
            "grid_gap": null,
            "grid_row": null,
            "grid_template_areas": null,
            "grid_template_columns": null,
            "grid_template_rows": null,
            "height": null,
            "justify_content": null,
            "justify_items": null,
            "left": null,
            "margin": null,
            "max_height": null,
            "max_width": null,
            "min_height": null,
            "min_width": null,
            "object_fit": null,
            "object_position": null,
            "order": null,
            "overflow": null,
            "overflow_x": null,
            "overflow_y": null,
            "padding": null,
            "right": null,
            "top": null,
            "visibility": null,
            "width": null
          }
        },
        "a5d36b7d8199403aad937b7d46cd6139": {
          "model_module": "@jupyter-widgets/controls",
          "model_name": "ProgressStyleModel",
          "model_module_version": "1.5.0",
          "state": {
            "_model_module": "@jupyter-widgets/controls",
            "_model_module_version": "1.5.0",
            "_model_name": "ProgressStyleModel",
            "_view_count": null,
            "_view_module": "@jupyter-widgets/base",
            "_view_module_version": "1.2.0",
            "_view_name": "StyleView",
            "bar_color": null,
            "description_width": ""
          }
        },
        "5e29a4d7bced4c6abb11dfc89d2b7d48": {
          "model_module": "@jupyter-widgets/base",
          "model_name": "LayoutModel",
          "model_module_version": "1.2.0",
          "state": {
            "_model_module": "@jupyter-widgets/base",
            "_model_module_version": "1.2.0",
            "_model_name": "LayoutModel",
            "_view_count": null,
            "_view_module": "@jupyter-widgets/base",
            "_view_module_version": "1.2.0",
            "_view_name": "LayoutView",
            "align_content": null,
            "align_items": null,
            "align_self": null,
            "border": null,
            "bottom": null,
            "display": null,
            "flex": null,
            "flex_flow": null,
            "grid_area": null,
            "grid_auto_columns": null,
            "grid_auto_flow": null,
            "grid_auto_rows": null,
            "grid_column": null,
            "grid_gap": null,
            "grid_row": null,
            "grid_template_areas": null,
            "grid_template_columns": null,
            "grid_template_rows": null,
            "height": null,
            "justify_content": null,
            "justify_items": null,
            "left": null,
            "margin": null,
            "max_height": null,
            "max_width": null,
            "min_height": null,
            "min_width": null,
            "object_fit": null,
            "object_position": null,
            "order": null,
            "overflow": null,
            "overflow_x": null,
            "overflow_y": null,
            "padding": null,
            "right": null,
            "top": null,
            "visibility": null,
            "width": null
          }
        },
        "d8d25252c89a44da9c1e3a8f435b3865": {
          "model_module": "@jupyter-widgets/controls",
          "model_name": "DescriptionStyleModel",
          "model_module_version": "1.5.0",
          "state": {
            "_model_module": "@jupyter-widgets/controls",
            "_model_module_version": "1.5.0",
            "_model_name": "DescriptionStyleModel",
            "_view_count": null,
            "_view_module": "@jupyter-widgets/base",
            "_view_module_version": "1.2.0",
            "_view_name": "StyleView",
            "description_width": ""
          }
        },
        "58e65c73575a46809e889ae4b6c351cb": {
          "model_module": "@jupyter-widgets/controls",
          "model_name": "HBoxModel",
          "model_module_version": "1.5.0",
          "state": {
            "_dom_classes": [],
            "_model_module": "@jupyter-widgets/controls",
            "_model_module_version": "1.5.0",
            "_model_name": "HBoxModel",
            "_view_count": null,
            "_view_module": "@jupyter-widgets/controls",
            "_view_module_version": "1.5.0",
            "_view_name": "HBoxView",
            "box_style": "",
            "children": [
              "IPY_MODEL_534f8851fc624d6b803292c587efc9d3",
              "IPY_MODEL_d94ce52e7eb947efbd8a8ea8783a45bb",
              "IPY_MODEL_c83c996a454747f38e96680a72ba1319"
            ],
            "layout": "IPY_MODEL_9f5739d9018f41adbcc17068ffa2fc2d"
          }
        },
        "534f8851fc624d6b803292c587efc9d3": {
          "model_module": "@jupyter-widgets/controls",
          "model_name": "HTMLModel",
          "model_module_version": "1.5.0",
          "state": {
            "_dom_classes": [],
            "_model_module": "@jupyter-widgets/controls",
            "_model_module_version": "1.5.0",
            "_model_name": "HTMLModel",
            "_view_count": null,
            "_view_module": "@jupyter-widgets/controls",
            "_view_module_version": "1.5.0",
            "_view_name": "HTMLView",
            "description": "",
            "description_tooltip": null,
            "layout": "IPY_MODEL_c94155a540ee4dc58355fae60af78530",
            "placeholder": "​",
            "style": "IPY_MODEL_91736dc7cb72400cbe0e08f4bd87990e",
            "value": "config.json: 100%"
          }
        },
        "d94ce52e7eb947efbd8a8ea8783a45bb": {
          "model_module": "@jupyter-widgets/controls",
          "model_name": "FloatProgressModel",
          "model_module_version": "1.5.0",
          "state": {
            "_dom_classes": [],
            "_model_module": "@jupyter-widgets/controls",
            "_model_module_version": "1.5.0",
            "_model_name": "FloatProgressModel",
            "_view_count": null,
            "_view_module": "@jupyter-widgets/controls",
            "_view_module_version": "1.5.0",
            "_view_name": "ProgressView",
            "bar_style": "success",
            "description": "",
            "description_tooltip": null,
            "layout": "IPY_MODEL_16e37eadd529482f8eb0a690d28e7545",
            "max": 533,
            "min": 0,
            "orientation": "horizontal",
            "style": "IPY_MODEL_db343a4dd1004569b08f929bb3d1ee25",
            "value": 533
          }
        },
        "c83c996a454747f38e96680a72ba1319": {
          "model_module": "@jupyter-widgets/controls",
          "model_name": "HTMLModel",
          "model_module_version": "1.5.0",
          "state": {
            "_dom_classes": [],
            "_model_module": "@jupyter-widgets/controls",
            "_model_module_version": "1.5.0",
            "_model_name": "HTMLModel",
            "_view_count": null,
            "_view_module": "@jupyter-widgets/controls",
            "_view_module_version": "1.5.0",
            "_view_name": "HTMLView",
            "description": "",
            "description_tooltip": null,
            "layout": "IPY_MODEL_2f769cc6de444bf1aa2bec012a716738",
            "placeholder": "​",
            "style": "IPY_MODEL_b61609cde10c47fb93281c85ee9a18de",
            "value": " 533/533 [00:00&lt;00:00, 23.5kB/s]"
          }
        },
        "9f5739d9018f41adbcc17068ffa2fc2d": {
          "model_module": "@jupyter-widgets/base",
          "model_name": "LayoutModel",
          "model_module_version": "1.2.0",
          "state": {
            "_model_module": "@jupyter-widgets/base",
            "_model_module_version": "1.2.0",
            "_model_name": "LayoutModel",
            "_view_count": null,
            "_view_module": "@jupyter-widgets/base",
            "_view_module_version": "1.2.0",
            "_view_name": "LayoutView",
            "align_content": null,
            "align_items": null,
            "align_self": null,
            "border": null,
            "bottom": null,
            "display": null,
            "flex": null,
            "flex_flow": null,
            "grid_area": null,
            "grid_auto_columns": null,
            "grid_auto_flow": null,
            "grid_auto_rows": null,
            "grid_column": null,
            "grid_gap": null,
            "grid_row": null,
            "grid_template_areas": null,
            "grid_template_columns": null,
            "grid_template_rows": null,
            "height": null,
            "justify_content": null,
            "justify_items": null,
            "left": null,
            "margin": null,
            "max_height": null,
            "max_width": null,
            "min_height": null,
            "min_width": null,
            "object_fit": null,
            "object_position": null,
            "order": null,
            "overflow": null,
            "overflow_x": null,
            "overflow_y": null,
            "padding": null,
            "right": null,
            "top": null,
            "visibility": null,
            "width": null
          }
        },
        "c94155a540ee4dc58355fae60af78530": {
          "model_module": "@jupyter-widgets/base",
          "model_name": "LayoutModel",
          "model_module_version": "1.2.0",
          "state": {
            "_model_module": "@jupyter-widgets/base",
            "_model_module_version": "1.2.0",
            "_model_name": "LayoutModel",
            "_view_count": null,
            "_view_module": "@jupyter-widgets/base",
            "_view_module_version": "1.2.0",
            "_view_name": "LayoutView",
            "align_content": null,
            "align_items": null,
            "align_self": null,
            "border": null,
            "bottom": null,
            "display": null,
            "flex": null,
            "flex_flow": null,
            "grid_area": null,
            "grid_auto_columns": null,
            "grid_auto_flow": null,
            "grid_auto_rows": null,
            "grid_column": null,
            "grid_gap": null,
            "grid_row": null,
            "grid_template_areas": null,
            "grid_template_columns": null,
            "grid_template_rows": null,
            "height": null,
            "justify_content": null,
            "justify_items": null,
            "left": null,
            "margin": null,
            "max_height": null,
            "max_width": null,
            "min_height": null,
            "min_width": null,
            "object_fit": null,
            "object_position": null,
            "order": null,
            "overflow": null,
            "overflow_x": null,
            "overflow_y": null,
            "padding": null,
            "right": null,
            "top": null,
            "visibility": null,
            "width": null
          }
        },
        "91736dc7cb72400cbe0e08f4bd87990e": {
          "model_module": "@jupyter-widgets/controls",
          "model_name": "DescriptionStyleModel",
          "model_module_version": "1.5.0",
          "state": {
            "_model_module": "@jupyter-widgets/controls",
            "_model_module_version": "1.5.0",
            "_model_name": "DescriptionStyleModel",
            "_view_count": null,
            "_view_module": "@jupyter-widgets/base",
            "_view_module_version": "1.2.0",
            "_view_name": "StyleView",
            "description_width": ""
          }
        },
        "16e37eadd529482f8eb0a690d28e7545": {
          "model_module": "@jupyter-widgets/base",
          "model_name": "LayoutModel",
          "model_module_version": "1.2.0",
          "state": {
            "_model_module": "@jupyter-widgets/base",
            "_model_module_version": "1.2.0",
            "_model_name": "LayoutModel",
            "_view_count": null,
            "_view_module": "@jupyter-widgets/base",
            "_view_module_version": "1.2.0",
            "_view_name": "LayoutView",
            "align_content": null,
            "align_items": null,
            "align_self": null,
            "border": null,
            "bottom": null,
            "display": null,
            "flex": null,
            "flex_flow": null,
            "grid_area": null,
            "grid_auto_columns": null,
            "grid_auto_flow": null,
            "grid_auto_rows": null,
            "grid_column": null,
            "grid_gap": null,
            "grid_row": null,
            "grid_template_areas": null,
            "grid_template_columns": null,
            "grid_template_rows": null,
            "height": null,
            "justify_content": null,
            "justify_items": null,
            "left": null,
            "margin": null,
            "max_height": null,
            "max_width": null,
            "min_height": null,
            "min_width": null,
            "object_fit": null,
            "object_position": null,
            "order": null,
            "overflow": null,
            "overflow_x": null,
            "overflow_y": null,
            "padding": null,
            "right": null,
            "top": null,
            "visibility": null,
            "width": null
          }
        },
        "db343a4dd1004569b08f929bb3d1ee25": {
          "model_module": "@jupyter-widgets/controls",
          "model_name": "ProgressStyleModel",
          "model_module_version": "1.5.0",
          "state": {
            "_model_module": "@jupyter-widgets/controls",
            "_model_module_version": "1.5.0",
            "_model_name": "ProgressStyleModel",
            "_view_count": null,
            "_view_module": "@jupyter-widgets/base",
            "_view_module_version": "1.2.0",
            "_view_name": "StyleView",
            "bar_color": null,
            "description_width": ""
          }
        },
        "2f769cc6de444bf1aa2bec012a716738": {
          "model_module": "@jupyter-widgets/base",
          "model_name": "LayoutModel",
          "model_module_version": "1.2.0",
          "state": {
            "_model_module": "@jupyter-widgets/base",
            "_model_module_version": "1.2.0",
            "_model_name": "LayoutModel",
            "_view_count": null,
            "_view_module": "@jupyter-widgets/base",
            "_view_module_version": "1.2.0",
            "_view_name": "LayoutView",
            "align_content": null,
            "align_items": null,
            "align_self": null,
            "border": null,
            "bottom": null,
            "display": null,
            "flex": null,
            "flex_flow": null,
            "grid_area": null,
            "grid_auto_columns": null,
            "grid_auto_flow": null,
            "grid_auto_rows": null,
            "grid_column": null,
            "grid_gap": null,
            "grid_row": null,
            "grid_template_areas": null,
            "grid_template_columns": null,
            "grid_template_rows": null,
            "height": null,
            "justify_content": null,
            "justify_items": null,
            "left": null,
            "margin": null,
            "max_height": null,
            "max_width": null,
            "min_height": null,
            "min_width": null,
            "object_fit": null,
            "object_position": null,
            "order": null,
            "overflow": null,
            "overflow_x": null,
            "overflow_y": null,
            "padding": null,
            "right": null,
            "top": null,
            "visibility": null,
            "width": null
          }
        },
        "b61609cde10c47fb93281c85ee9a18de": {
          "model_module": "@jupyter-widgets/controls",
          "model_name": "DescriptionStyleModel",
          "model_module_version": "1.5.0",
          "state": {
            "_model_module": "@jupyter-widgets/controls",
            "_model_module_version": "1.5.0",
            "_model_name": "DescriptionStyleModel",
            "_view_count": null,
            "_view_module": "@jupyter-widgets/base",
            "_view_module_version": "1.2.0",
            "_view_name": "StyleView",
            "description_width": ""
          }
        },
        "a3dfa3c4bf374af09f338501613a808b": {
          "model_module": "@jupyter-widgets/controls",
          "model_name": "HBoxModel",
          "model_module_version": "1.5.0",
          "state": {
            "_dom_classes": [],
            "_model_module": "@jupyter-widgets/controls",
            "_model_module_version": "1.5.0",
            "_model_name": "HBoxModel",
            "_view_count": null,
            "_view_module": "@jupyter-widgets/controls",
            "_view_module_version": "1.5.0",
            "_view_name": "HBoxView",
            "box_style": "",
            "children": [
              "IPY_MODEL_6f6f5ee9ba0b45bd9b91254845ed2ee6",
              "IPY_MODEL_e7e6496cb2724258b8e72009920711a9",
              "IPY_MODEL_92eb99b4c83c41009bedada1c25dc37f"
            ],
            "layout": "IPY_MODEL_05bf6546a2d145758bcf0bdcb2154d7d"
          }
        },
        "6f6f5ee9ba0b45bd9b91254845ed2ee6": {
          "model_module": "@jupyter-widgets/controls",
          "model_name": "HTMLModel",
          "model_module_version": "1.5.0",
          "state": {
            "_dom_classes": [],
            "_model_module": "@jupyter-widgets/controls",
            "_model_module_version": "1.5.0",
            "_model_name": "HTMLModel",
            "_view_count": null,
            "_view_module": "@jupyter-widgets/controls",
            "_view_module_version": "1.5.0",
            "_view_name": "HTMLView",
            "description": "",
            "description_tooltip": null,
            "layout": "IPY_MODEL_ae96d29926fb40548be471394133071e",
            "placeholder": "​",
            "style": "IPY_MODEL_9ea7fb2786bb445c87d100ca5718a40a",
            "value": "pytorch_model.bin: 100%"
          }
        },
        "e7e6496cb2724258b8e72009920711a9": {
          "model_module": "@jupyter-widgets/controls",
          "model_name": "FloatProgressModel",
          "model_module_version": "1.5.0",
          "state": {
            "_dom_classes": [],
            "_model_module": "@jupyter-widgets/controls",
            "_model_module_version": "1.5.0",
            "_model_name": "FloatProgressModel",
            "_view_count": null,
            "_view_module": "@jupyter-widgets/controls",
            "_view_module_version": "1.5.0",
            "_view_name": "ProgressView",
            "bar_style": "success",
            "description": "",
            "description_tooltip": null,
            "layout": "IPY_MODEL_6c8326fba9be46bfa593a3fc5b10b762",
            "max": 439101405,
            "min": 0,
            "orientation": "horizontal",
            "style": "IPY_MODEL_afedd0f8cf0e4ffc90a7b54c8563edca",
            "value": 439101405
          }
        },
        "92eb99b4c83c41009bedada1c25dc37f": {
          "model_module": "@jupyter-widgets/controls",
          "model_name": "HTMLModel",
          "model_module_version": "1.5.0",
          "state": {
            "_dom_classes": [],
            "_model_module": "@jupyter-widgets/controls",
            "_model_module_version": "1.5.0",
            "_model_name": "HTMLModel",
            "_view_count": null,
            "_view_module": "@jupyter-widgets/controls",
            "_view_module_version": "1.5.0",
            "_view_name": "HTMLView",
            "description": "",
            "description_tooltip": null,
            "layout": "IPY_MODEL_cad76e7da1b24b76b5fb3ea843c89d19",
            "placeholder": "​",
            "style": "IPY_MODEL_3e379864399946edb3d64019fe808c03",
            "value": " 439M/439M [00:03&lt;00:00, 110MB/s]"
          }
        },
        "05bf6546a2d145758bcf0bdcb2154d7d": {
          "model_module": "@jupyter-widgets/base",
          "model_name": "LayoutModel",
          "model_module_version": "1.2.0",
          "state": {
            "_model_module": "@jupyter-widgets/base",
            "_model_module_version": "1.2.0",
            "_model_name": "LayoutModel",
            "_view_count": null,
            "_view_module": "@jupyter-widgets/base",
            "_view_module_version": "1.2.0",
            "_view_name": "LayoutView",
            "align_content": null,
            "align_items": null,
            "align_self": null,
            "border": null,
            "bottom": null,
            "display": null,
            "flex": null,
            "flex_flow": null,
            "grid_area": null,
            "grid_auto_columns": null,
            "grid_auto_flow": null,
            "grid_auto_rows": null,
            "grid_column": null,
            "grid_gap": null,
            "grid_row": null,
            "grid_template_areas": null,
            "grid_template_columns": null,
            "grid_template_rows": null,
            "height": null,
            "justify_content": null,
            "justify_items": null,
            "left": null,
            "margin": null,
            "max_height": null,
            "max_width": null,
            "min_height": null,
            "min_width": null,
            "object_fit": null,
            "object_position": null,
            "order": null,
            "overflow": null,
            "overflow_x": null,
            "overflow_y": null,
            "padding": null,
            "right": null,
            "top": null,
            "visibility": null,
            "width": null
          }
        },
        "ae96d29926fb40548be471394133071e": {
          "model_module": "@jupyter-widgets/base",
          "model_name": "LayoutModel",
          "model_module_version": "1.2.0",
          "state": {
            "_model_module": "@jupyter-widgets/base",
            "_model_module_version": "1.2.0",
            "_model_name": "LayoutModel",
            "_view_count": null,
            "_view_module": "@jupyter-widgets/base",
            "_view_module_version": "1.2.0",
            "_view_name": "LayoutView",
            "align_content": null,
            "align_items": null,
            "align_self": null,
            "border": null,
            "bottom": null,
            "display": null,
            "flex": null,
            "flex_flow": null,
            "grid_area": null,
            "grid_auto_columns": null,
            "grid_auto_flow": null,
            "grid_auto_rows": null,
            "grid_column": null,
            "grid_gap": null,
            "grid_row": null,
            "grid_template_areas": null,
            "grid_template_columns": null,
            "grid_template_rows": null,
            "height": null,
            "justify_content": null,
            "justify_items": null,
            "left": null,
            "margin": null,
            "max_height": null,
            "max_width": null,
            "min_height": null,
            "min_width": null,
            "object_fit": null,
            "object_position": null,
            "order": null,
            "overflow": null,
            "overflow_x": null,
            "overflow_y": null,
            "padding": null,
            "right": null,
            "top": null,
            "visibility": null,
            "width": null
          }
        },
        "9ea7fb2786bb445c87d100ca5718a40a": {
          "model_module": "@jupyter-widgets/controls",
          "model_name": "DescriptionStyleModel",
          "model_module_version": "1.5.0",
          "state": {
            "_model_module": "@jupyter-widgets/controls",
            "_model_module_version": "1.5.0",
            "_model_name": "DescriptionStyleModel",
            "_view_count": null,
            "_view_module": "@jupyter-widgets/base",
            "_view_module_version": "1.2.0",
            "_view_name": "StyleView",
            "description_width": ""
          }
        },
        "6c8326fba9be46bfa593a3fc5b10b762": {
          "model_module": "@jupyter-widgets/base",
          "model_name": "LayoutModel",
          "model_module_version": "1.2.0",
          "state": {
            "_model_module": "@jupyter-widgets/base",
            "_model_module_version": "1.2.0",
            "_model_name": "LayoutModel",
            "_view_count": null,
            "_view_module": "@jupyter-widgets/base",
            "_view_module_version": "1.2.0",
            "_view_name": "LayoutView",
            "align_content": null,
            "align_items": null,
            "align_self": null,
            "border": null,
            "bottom": null,
            "display": null,
            "flex": null,
            "flex_flow": null,
            "grid_area": null,
            "grid_auto_columns": null,
            "grid_auto_flow": null,
            "grid_auto_rows": null,
            "grid_column": null,
            "grid_gap": null,
            "grid_row": null,
            "grid_template_areas": null,
            "grid_template_columns": null,
            "grid_template_rows": null,
            "height": null,
            "justify_content": null,
            "justify_items": null,
            "left": null,
            "margin": null,
            "max_height": null,
            "max_width": null,
            "min_height": null,
            "min_width": null,
            "object_fit": null,
            "object_position": null,
            "order": null,
            "overflow": null,
            "overflow_x": null,
            "overflow_y": null,
            "padding": null,
            "right": null,
            "top": null,
            "visibility": null,
            "width": null
          }
        },
        "afedd0f8cf0e4ffc90a7b54c8563edca": {
          "model_module": "@jupyter-widgets/controls",
          "model_name": "ProgressStyleModel",
          "model_module_version": "1.5.0",
          "state": {
            "_model_module": "@jupyter-widgets/controls",
            "_model_module_version": "1.5.0",
            "_model_name": "ProgressStyleModel",
            "_view_count": null,
            "_view_module": "@jupyter-widgets/base",
            "_view_module_version": "1.2.0",
            "_view_name": "StyleView",
            "bar_color": null,
            "description_width": ""
          }
        },
        "cad76e7da1b24b76b5fb3ea843c89d19": {
          "model_module": "@jupyter-widgets/base",
          "model_name": "LayoutModel",
          "model_module_version": "1.2.0",
          "state": {
            "_model_module": "@jupyter-widgets/base",
            "_model_module_version": "1.2.0",
            "_model_name": "LayoutModel",
            "_view_count": null,
            "_view_module": "@jupyter-widgets/base",
            "_view_module_version": "1.2.0",
            "_view_name": "LayoutView",
            "align_content": null,
            "align_items": null,
            "align_self": null,
            "border": null,
            "bottom": null,
            "display": null,
            "flex": null,
            "flex_flow": null,
            "grid_area": null,
            "grid_auto_columns": null,
            "grid_auto_flow": null,
            "grid_auto_rows": null,
            "grid_column": null,
            "grid_gap": null,
            "grid_row": null,
            "grid_template_areas": null,
            "grid_template_columns": null,
            "grid_template_rows": null,
            "height": null,
            "justify_content": null,
            "justify_items": null,
            "left": null,
            "margin": null,
            "max_height": null,
            "max_width": null,
            "min_height": null,
            "min_width": null,
            "object_fit": null,
            "object_position": null,
            "order": null,
            "overflow": null,
            "overflow_x": null,
            "overflow_y": null,
            "padding": null,
            "right": null,
            "top": null,
            "visibility": null,
            "width": null
          }
        },
        "3e379864399946edb3d64019fe808c03": {
          "model_module": "@jupyter-widgets/controls",
          "model_name": "DescriptionStyleModel",
          "model_module_version": "1.5.0",
          "state": {
            "_model_module": "@jupyter-widgets/controls",
            "_model_module_version": "1.5.0",
            "_model_name": "DescriptionStyleModel",
            "_view_count": null,
            "_view_module": "@jupyter-widgets/base",
            "_view_module_version": "1.2.0",
            "_view_name": "StyleView",
            "description_width": ""
          }
        }
      }
    }
  },
  "cells": [
    {
      "cell_type": "code",
      "execution_count": 1,
      "metadata": {
        "id": "khxhOztcfZrw"
      },
      "outputs": [],
      "source": [
        "import pandas as pd\n",
        "from transformers import BertTokenizer, BertForSequenceClassification\n",
        "import torch\n"
      ]
    },
    {
      "cell_type": "code",
      "source": [
        "# Step 2: Load the FINBERT model\n",
        "model_name = \"yiyanghkust/finbert-tone\"\n",
        "tokenizer = BertTokenizer.from_pretrained(model_name)\n",
        "model = BertForSequenceClassification.from_pretrained(model_name)\n"
      ],
      "metadata": {
        "colab": {
          "base_uri": "https://localhost:8080/",
          "height": 237,
          "referenced_widgets": [
            "41a924f0d03a4710936684c409b65f84",
            "fae5e5d436bb467295fa362b4283e43d",
            "65ac74d32df1407b90b7a98d4e05b886",
            "fc3028d870ec4888a41402cf31f5cf0e",
            "f8510bd86475431dabaa12771c01df30",
            "063d7fd89a5b4a8e98f828bbb1584405",
            "82f37224860f40b68716f149b2c1aba9",
            "ac886f6347b7443b942bb4bf1fca99bf",
            "a5d36b7d8199403aad937b7d46cd6139",
            "5e29a4d7bced4c6abb11dfc89d2b7d48",
            "d8d25252c89a44da9c1e3a8f435b3865",
            "58e65c73575a46809e889ae4b6c351cb",
            "534f8851fc624d6b803292c587efc9d3",
            "d94ce52e7eb947efbd8a8ea8783a45bb",
            "c83c996a454747f38e96680a72ba1319",
            "9f5739d9018f41adbcc17068ffa2fc2d",
            "c94155a540ee4dc58355fae60af78530",
            "91736dc7cb72400cbe0e08f4bd87990e",
            "16e37eadd529482f8eb0a690d28e7545",
            "db343a4dd1004569b08f929bb3d1ee25",
            "2f769cc6de444bf1aa2bec012a716738",
            "b61609cde10c47fb93281c85ee9a18de",
            "a3dfa3c4bf374af09f338501613a808b",
            "6f6f5ee9ba0b45bd9b91254845ed2ee6",
            "e7e6496cb2724258b8e72009920711a9",
            "92eb99b4c83c41009bedada1c25dc37f",
            "05bf6546a2d145758bcf0bdcb2154d7d",
            "ae96d29926fb40548be471394133071e",
            "9ea7fb2786bb445c87d100ca5718a40a",
            "6c8326fba9be46bfa593a3fc5b10b762",
            "afedd0f8cf0e4ffc90a7b54c8563edca",
            "cad76e7da1b24b76b5fb3ea843c89d19",
            "3e379864399946edb3d64019fe808c03"
          ]
        },
        "id": "-Z26bA_6fiSH",
        "outputId": "e0adc411-a196-4708-c99e-649e90e9e0aa"
      },
      "execution_count": 2,
      "outputs": [
        {
          "output_type": "stream",
          "name": "stderr",
          "text": [
            "/usr/local/lib/python3.10/dist-packages/huggingface_hub/utils/_token.py:88: UserWarning: \n",
            "The secret `HF_TOKEN` does not exist in your Colab secrets.\n",
            "To authenticate with the Hugging Face Hub, create a token in your settings tab (https://huggingface.co/settings/tokens), set it as secret in your Google Colab and restart your session.\n",
            "You will be able to reuse this secret in all of your notebooks.\n",
            "Please note that authentication is recommended but still optional to access public models or datasets.\n",
            "  warnings.warn(\n"
          ]
        },
        {
          "output_type": "display_data",
          "data": {
            "text/plain": [
              "vocab.txt:   0%|          | 0.00/226k [00:00<?, ?B/s]"
            ],
            "application/vnd.jupyter.widget-view+json": {
              "version_major": 2,
              "version_minor": 0,
              "model_id": "41a924f0d03a4710936684c409b65f84"
            }
          },
          "metadata": {}
        },
        {
          "output_type": "display_data",
          "data": {
            "text/plain": [
              "config.json:   0%|          | 0.00/533 [00:00<?, ?B/s]"
            ],
            "application/vnd.jupyter.widget-view+json": {
              "version_major": 2,
              "version_minor": 0,
              "model_id": "58e65c73575a46809e889ae4b6c351cb"
            }
          },
          "metadata": {}
        },
        {
          "output_type": "display_data",
          "data": {
            "text/plain": [
              "pytorch_model.bin:   0%|          | 0.00/439M [00:00<?, ?B/s]"
            ],
            "application/vnd.jupyter.widget-view+json": {
              "version_major": 2,
              "version_minor": 0,
              "model_id": "a3dfa3c4bf374af09f338501613a808b"
            }
          },
          "metadata": {}
        }
      ]
    },
    {
      "cell_type": "code",
      "source": [
        "import os\n",
        "\n",
        "# Specify the current file name\n",
        "current_file_name = \"shadow_minutes 9_rajat.csv\"\n",
        "\n",
        "# Specify the new file name\n",
        "new_file_name = \"test.csv\"\n",
        "\n",
        "# Rename the file\n",
        "os.rename(current_file_name, new_file_name)"
      ],
      "metadata": {
        "id": "sM7mb_ImgB4j"
      },
      "execution_count": 4,
      "outputs": []
    },
    {
      "cell_type": "code",
      "source": [
        "import pandas as pd\n",
        "\n",
        "# Load the CSV file\n",
        "df = pd.read_csv(\"test.csv\")\n",
        "\n",
        "# Print the column names\n",
        "print(\"Column Names:\")\n",
        "print(df.columns)"
      ],
      "metadata": {
        "colab": {
          "base_uri": "https://localhost:8080/"
        },
        "id": "JSwg2N2OglY4",
        "outputId": "fd087973-a6d1-48c2-a454-ef1926869d0c"
      },
      "execution_count": 5,
      "outputs": [
        {
          "output_type": "stream",
          "name": "stdout",
          "text": [
            "Column Names:\n",
            "Index(['Sentences', 'Dominant Sentiment', 'Reason'], dtype='object')\n"
          ]
        }
      ]
    },
    {
      "cell_type": "code",
      "source": [
        "# Step 3: Load and preprocess your data\n",
        "def preprocess_data(csv_file):\n",
        "    df = pd.read_csv(csv_file)\n",
        "    # Your preprocessing steps here\n",
        "    return df\n",
        "\n",
        "# Step 4: Perform sentiment analysis\n",
        "def perform_sentiment_analysis(text):\n",
        "    inputs = tokenizer(text, return_tensors=\"pt\", padding=True, truncation=True)\n",
        "    outputs = model(**inputs)\n",
        "    logits = outputs.logits\n",
        "    probabilities = torch.softmax(logits, dim=1).detach().numpy()\n",
        "    return probabilities\n",
        "\n",
        "# Step 5: Evaluate the results\n",
        "\n",
        "# Example usage\n",
        "csv_file = \"/content/test.csv\"\n",
        "data = preprocess_data(csv_file)\n",
        "sentiments = []\n",
        "positive_probs = []\n",
        "negative_probs = []\n",
        "neutral_probs = []\n",
        "for text in data['Sentences']:\n",
        "    probabilities = perform_sentiment_analysis(text)\n",
        "    positive_prob = round(probabilities[0][1], 2)  # Round to two decimal places\n",
        "    negative_prob = round(probabilities[0][0], 2)  # Round to two decimal places\n",
        "    neutral_prob = round(probabilities[0][2], 2)\n",
        "\n",
        "    if positive_prob > negative_prob and positive_prob > neutral_prob:\n",
        "        sentiment = \"positive\"\n",
        "    elif negative_prob > positive_prob and negative_prob > neutral_prob:\n",
        "        sentiment = \"negative\"\n",
        "    else:\n",
        "        sentiment = \"neutral\"\n",
        "\n",
        "    sentiments.append(sentiment)\n",
        "    positive_probs.append(float(positive_prob))  # Convert numpy float32 to Python float\n",
        "    negative_probs.append(float(negative_prob))  # Convert numpy float32 to Python float\n",
        "    neutral_probs.append(float(neutral_prob))  # Convert numpy float32 to Python float\n",
        "\n",
        "data['sentiment'] = sentiments\n",
        "data['positive_prob'] = positive_probs\n",
        "data['negative_prob'] = negative_probs\n",
        "data['neutral_prob'] = neutral_probs\n",
        "\n",
        "print(data)"
      ],
      "metadata": {
        "colab": {
          "base_uri": "https://localhost:8080/"
        },
        "id": "WNySyN9kftgY",
        "outputId": "4ded749e-893b-4db4-88aa-fa64bc2e4a51"
      },
      "execution_count": 6,
      "outputs": [
        {
          "output_type": "stream",
          "name": "stderr",
          "text": [
            "Asking to truncate to max_length but no maximum length is provided and the model has no predefined maximum length. Default to no truncation.\n"
          ]
        },
        {
          "output_type": "stream",
          "name": "stdout",
          "text": [
            "                                             Sentences Dominant Sentiment  \\\n",
            "0    There is an unprecedented shock to every econo...          Negative    \n",
            "1    It practically immobilizes the workforce and t...          Negative    \n",
            "2    As in the previous Financial Crisis, the Monet...            Neutral   \n",
            "3    RBI must ensure that key Institutions (like Ba...            Neutral   \n",
            "4    The last also requires close Monetary-Fiscal C...            Neutral   \n",
            "..                                                 ...                ...   \n",
            "158  While the current fiscal and monetary actions ...           Positive   \n",
            "159  Going forward, more fiscal and monetary measur...            Neutral   \n",
            "160  Right now, control and coordination to prevent...            Neutral   \n",
            "161  RBI's initiatives are obviously in the right d...           Positive   \n",
            "162  Only issue for discussion is if the measures a...            Neutral   \n",
            "\n",
            "                                                Reason sentiment  \\\n",
            "0                   Expectation of something negative    neutral   \n",
            "1          Result of shock is negative for the country  negative   \n",
            "2    Steps are discussed that what should be done a...   neutral   \n",
            "3    Steps are discussed that what should be done a...  positive   \n",
            "4    Steps are discussed that what should be done a...  negative   \n",
            "..                                                 ...       ...   \n",
            "158  Current actions will help in improving the sit...  positive   \n",
            "159  Concerns regarding need of more such decisions...  negative   \n",
            "160  Expectation of coming out of the risk from Cov...  positive   \n",
            "161  RBI has taken correct steps to improve  the ec...  negative   \n",
            "162  Concerns regarding proper implementation of th...   neutral   \n",
            "\n",
            "     positive_prob  negative_prob  neutral_prob  \n",
            "0             0.00           0.00          1.00  \n",
            "1             0.19           0.79          0.02  \n",
            "2             0.00           0.00          1.00  \n",
            "3             0.90           0.10          0.00  \n",
            "4             0.00           1.00          0.00  \n",
            "..             ...            ...           ...  \n",
            "158           0.53           0.04          0.42  \n",
            "159           0.00           1.00          0.00  \n",
            "160           0.54           0.46          0.00  \n",
            "161           0.11           0.89          0.00  \n",
            "162           0.00           0.03          0.97  \n",
            "\n",
            "[163 rows x 7 columns]\n"
          ]
        }
      ]
    },
    {
      "cell_type": "code",
      "source": [],
      "metadata": {
        "id": "ThCd_O61l4Oc"
      },
      "execution_count": null,
      "outputs": []
    },
    {
      "cell_type": "code",
      "source": [
        "# Example usage\n",
        "statement = input(\"Enter a statement: \")\n",
        "sentiment, probabilities = perform_sentiment_analysis(statement)\n",
        "print(f\"Predicted Sentiment: {sentiment}\")\n",
        "print(f\"Probability (Positive): {round(probabilities[0][1],2)}\")\n",
        "print(f\"Probability (Negative): {round(probabilities[0][0],2)}\")\n",
        "print(f\"Probability (Neutral): {round(probabilities[0][2],2)}\")\n"
      ],
      "metadata": {
        "colab": {
          "base_uri": "https://localhost:8080/"
        },
        "id": "wm1TxHcGkEiq",
        "outputId": "86a4cea7-8815-42d5-af71-833466e70e38"
      },
      "execution_count": 24,
      "outputs": [
        {
          "output_type": "stream",
          "name": "stdout",
          "text": [
            "Enter a statement: inflation is rising \n",
            "Predicted Sentiment: Negative\n",
            "Probability (Positive): 0.07000000029802322\n",
            "Probability (Negative): 0.6200000047683716\n",
            "Probability (Neutral): 0.3100000023841858\n"
          ]
        }
      ]
    },
    {
      "cell_type": "code",
      "source": [],
      "metadata": {
        "id": "zbkE8_xLwVQE"
      },
      "execution_count": null,
      "outputs": []
    },
    {
      "cell_type": "code",
      "source": [
        "import pandas as pd\n",
        "from transformers import BertTokenizer\n",
        "from torch.utils.data import DataLoader, Dataset\n",
        "from sklearn.model_selection import train_test_split"
      ],
      "metadata": {
        "id": "XsuNxXsEwVb6"
      },
      "execution_count": 26,
      "outputs": []
    },
    {
      "cell_type": "code",
      "source": [
        "# Step 2: Load and Preprocess New Data\n",
        "# Load your new dataset\n",
        "new_dataset_path = \"/content/Dataset_FT.csv\"\n",
        "new_df = pd.read_csv(new_dataset_path)\n"
      ],
      "metadata": {
        "id": "XHwdDFyRwa0u"
      },
      "execution_count": 28,
      "outputs": []
    },
    {
      "cell_type": "code",
      "source": [
        "import pandas as pd\n",
        "\n",
        "# Load the CSV file into a DataFrame\n",
        "df = pd.read_csv(\"Dataset_FT.csv\")\n",
        "\n",
        "# Get the column names\n",
        "column_names = df.columns.tolist()\n",
        "\n",
        "# Print the column names\n",
        "print(\"Column Names:\", column_names)"
      ],
      "metadata": {
        "colab": {
          "base_uri": "https://localhost:8080/"
        },
        "id": "5s3PA4UkyvQ4",
        "outputId": "d15e42b9-c0f4-401b-cc33-291b9bdfa8e3"
      },
      "execution_count": 31,
      "outputs": [
        {
          "output_type": "stream",
          "name": "stdout",
          "text": [
            "Column Names: ['sentences', 'Polarity', 'Reason']\n"
          ]
        }
      ]
    },
    {
      "cell_type": "code",
      "source": [
        "import pandas as pd\n",
        "from sklearn.preprocessing import LabelEncoder\n",
        "\n",
        "# Load your new dataset\n",
        "new_dataset_path = \"/content/Dataset_FT.csv\"\n",
        "new_df = pd.read_csv(new_dataset_path)\n",
        "\n",
        "# Encode labels to numerical values\n",
        "label_encoder = LabelEncoder()\n",
        "new_df['Polarity'] = label_encoder.fit_transform(new_df['Polarity'])\n",
        "\n",
        "# Preprocess the data\n",
        "# Tokenize and encode the text data using the tokenizer\n",
        "max_length = 128\n",
        "encoded_data = tokenizer(new_df['sentences'].tolist(), padding='max_length', truncation=True, max_length=max_length, return_tensors='pt')\n",
        "labels = torch.tensor(new_df['Polarity'].tolist())\n",
        "\n",
        "# Split the data into training and validation sets\n",
        "train_inputs, val_inputs, train_labels, val_labels = train_test_split(encoded_data.input_ids, labels, test_size=0.2, random_state=42)\n",
        "train_masks, val_masks = train_test_split(encoded_data.attention_mask, test_size=0.2, random_state=42)\n",
        "\n"
      ],
      "metadata": {
        "id": "sW3mtZ7Dz06o"
      },
      "execution_count": 33,
      "outputs": []
    },
    {
      "cell_type": "code",
      "source": [
        "# Create PyTorch Dataset and DataLoader\n",
        "class NewDataset(Dataset):\n",
        "    def __init__(self, input_ids, attention_masks, labels):\n",
        "        self.input_ids = input_ids\n",
        "        self.attention_masks = attention_masks\n",
        "        self.labels = labels\n",
        "\n",
        "    def __len__(self):\n",
        "        return len(self.labels)\n",
        "\n",
        "    def __getitem__(self, idx):\n",
        "        return {\n",
        "            'input_ids': self.input_ids[idx],\n",
        "            'attention_mask': self.attention_masks[idx],\n",
        "            'label': self.labels[idx]\n",
        "        }\n",
        "\n",
        "batch_size = 32\n",
        "train_dataset = NewDataset(train_inputs, train_masks, train_labels)\n",
        "train_loader = DataLoader(train_dataset, batch_size=batch_size, shuffle=True)\n",
        "val_dataset = NewDataset(val_inputs, val_masks, val_labels)\n",
        "val_loader = DataLoader(val_dataset, batch_size=batch_size, shuffle=False)\n"
      ],
      "metadata": {
        "id": "1_jmtL7Cx-mH"
      },
      "execution_count": 34,
      "outputs": []
    },
    {
      "cell_type": "code",
      "source": [
        "import torch\n",
        "\n",
        "# Check if GPU is available, otherwise use CPU\n",
        "device = torch.device(\"cuda\" if torch.cuda.is_available() else \"cpu\")"
      ],
      "metadata": {
        "id": "n-_O9Qq52A25"
      },
      "execution_count": 36,
      "outputs": []
    },
    {
      "cell_type": "code",
      "source": [
        "# Step 3: Fine-tune the Model\n",
        "optimizer = torch.optim.AdamW(model.parameters(), lr=2e-5)\n",
        "criterion = torch.nn.CrossEntropyLoss()\n",
        "\n",
        "num_epochs = 3\n",
        "for epoch in range(num_epochs):\n",
        "    model.train()\n",
        "    for batch in train_loader:\n",
        "        optimizer.zero_grad()\n",
        "        input_ids = batch['input_ids'].to(device)\n",
        "        attention_mask = batch['attention_mask'].to(device)\n",
        "        labels = batch['label'].to(device)\n",
        "        outputs = model(input_ids, attention_mask=attention_mask)\n",
        "        loss = criterion(outputs.logits, labels)\n",
        "        loss.backward()\n",
        "        optimizer.step()"
      ],
      "metadata": {
        "id": "MFK7zZhQylOm"
      },
      "execution_count": 37,
      "outputs": []
    },
    {
      "cell_type": "code",
      "source": [
        "# Step 4: Evaluate the Model\n",
        "model.eval()  # Set the model to evaluation mode\n",
        "\n",
        "total_correct = 0\n",
        "total_samples = 0\n",
        "total_loss = 0.0\n",
        "\n",
        "with torch.no_grad():\n",
        "    for batch in val_loader:\n",
        "        input_ids = batch['input_ids'].to(device)\n",
        "        attention_mask = batch['attention_mask'].to(device)\n",
        "        labels = batch['label'].to(device)\n",
        "        outputs = model(input_ids, attention_mask=attention_mask)\n",
        "\n",
        "        # Compute loss\n",
        "        loss = criterion(outputs.logits, labels)\n",
        "        total_loss += loss.item() * input_ids.size(0)  # Multiply by batch size\n",
        "\n",
        "        # Compute accuracy\n",
        "        _, predicted = torch.max(outputs.logits, 1)\n",
        "        total_correct += (predicted == labels).sum().item()\n",
        "        total_samples += labels.size(0)\n",
        "\n",
        "# Calculate average loss and accuracy\n",
        "average_loss = total_loss / total_samples\n",
        "accuracy = total_correct / total_samples\n",
        "\n",
        "print(f\"Validation Loss: {average_loss:.4f}, Accuracy: {accuracy:.4f}\")"
      ],
      "metadata": {
        "colab": {
          "base_uri": "https://localhost:8080/"
        },
        "id": "BO7MdaiW3_vG",
        "outputId": "672b8bb4-5d89-4264-d8a0-c29f6bed0cec"
      },
      "execution_count": 39,
      "outputs": [
        {
          "output_type": "stream",
          "name": "stdout",
          "text": [
            "Validation Loss: 1.4958, Accuracy: 0.5882\n"
          ]
        }
      ]
    },
    {
      "cell_type": "code",
      "source": [
        "# Step 5: Save the Fine-tuned Model\n",
        "torch.save(model.state_dict(), 'finetuned_model_on_new_dataset.pth')\n"
      ],
      "metadata": {
        "id": "US-g8Smj1uzk"
      },
      "execution_count": 38,
      "outputs": []
    },
    {
      "cell_type": "code",
      "source": [],
      "metadata": {
        "id": "ymcukjw13xMY"
      },
      "execution_count": null,
      "outputs": []
    },
    {
      "cell_type": "code",
      "source": [
        "# Assume you have a fine-tuned model named 'model' and a tokenizer named 'tokenizer'\n",
        "\n",
        "# Step 1: Preprocess the Statement\n",
        "statement = \" FDI is decreasing. \"\n",
        "\n",
        "# Tokenize and encode the statement\n",
        "encoded_statement = tokenizer(statement, padding='max_length', truncation=True, max_length=max_length, return_tensors='pt')\n",
        "\n",
        "# Step 2: Inference\n",
        "with torch.no_grad():\n",
        "    input_ids = encoded_statement['input_ids'].to(device)\n",
        "    attention_mask = encoded_statement['attention_mask'].to(device)\n",
        "    outputs = model(input_ids, attention_mask=attention_mask)\n",
        "\n",
        "# Step 3: Interpret the Results\n",
        "# Get the predicted class\n",
        "_, predicted = torch.max(outputs.logits, 1)\n",
        "predicted_class = predicted.item()\n",
        "\n",
        "# Get the probabilities for each class\n",
        "probabilities = torch.softmax(outputs.logits, dim=1).squeeze().tolist()\n",
        "positive_prob = probabilities[1]\n",
        "negative_prob = probabilities[0]\n",
        "neutral_prob = probabilities[2]\n",
        "\n",
        "# Determine sentiment based on probabilities\n",
        "if predicted_class == 0:\n",
        "    sentiment = \"negative\"\n",
        "elif predicted_class == 1:\n",
        "    sentiment = \"positive\"\n",
        "else:\n",
        "    sentiment = \"neutral\"\n",
        "\n",
        "# Print results\n",
        "print(\"Predicted Sentiment:\", sentiment)\n",
        "print(\"Probability (Positive):\", positive_prob)\n",
        "print(\"Probability (Negative):\", negative_prob)\n",
        "print(\"Probability (Neutral):\", neutral_prob)"
      ],
      "metadata": {
        "colab": {
          "base_uri": "https://localhost:8080/"
        },
        "id": "Q3heScug4eq-",
        "outputId": "74013d4d-81a1-4a03-e541-633a078d419d"
      },
      "execution_count": 51,
      "outputs": [
        {
          "output_type": "stream",
          "name": "stdout",
          "text": [
            "Predicted Sentiment: positive\n",
            "Probability (Positive): 0.9429779052734375\n",
            "Probability (Negative): 0.02000230737030506\n",
            "Probability (Neutral): 0.03701980039477348\n"
          ]
        }
      ]
    },
    {
      "cell_type": "code",
      "source": [],
      "metadata": {
        "id": "MOoQIPwl4pAU"
      },
      "execution_count": null,
      "outputs": []
    }
  ]
}